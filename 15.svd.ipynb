{
 "cells": [
  {
   "cell_type": "markdown",
   "source": [
    "# 第15章 奇异值分解    \n",
    "    "
   ],
   "metadata": {
    "collapsed": false,
    "pycharm": {
     "name": "#%% md\n"
    }
   }
  },
  {
   "cell_type": "markdown",
   "source": [
    "    15.1 奇异值分解的定义与性质    \n",
    "        15.1.1 定义与定理    \n",
    "        15.1.2 紧奇异值分解与截断奇异值分解    \n",
    "        15.1.3 几何解释    \n",
    "        15.1.4 主要性质    \n",
    "    15.2 奇异值分解的计算    \n",
    "    15.3 奇异值分解与矩阵近似    \n",
    "        15.3.1 弗罗贝尼乌斯范数    \n",
    "        15.3.2 矩阵的优近似    \n",
    "        15.3.3 矩阵的外积展开式 "
   ],
   "metadata": {
    "collapsed": false
   }
  },
  {
   "cell_type": "markdown",
   "source": [
    "## 15.1 奇异值分解的定义与性质    "
   ],
   "metadata": {
    "collapsed": false
   }
  },
  {
   "cell_type": "markdown",
   "source": [
    "###    15.1.1 定义与定理    "
   ],
   "metadata": {
    "collapsed": false
   }
  },
  {
   "cell_type": "markdown",
   "source": [
    "###    15.1.2 紧奇异值分解与截断奇异值分解    "
   ],
   "metadata": {
    "collapsed": false
   }
  },
  {
   "cell_type": "markdown",
   "source": [
    "###    15.1.3 几何解释    "
   ],
   "metadata": {
    "collapsed": false
   }
  },
  {
   "cell_type": "markdown",
   "source": [
    "###    15.1.4 主要性质    "
   ],
   "metadata": {
    "collapsed": false
   }
  },
  {
   "cell_type": "markdown",
   "source": [
    "## 15.2 奇异值分解的计算    "
   ],
   "metadata": {
    "collapsed": false
   }
  },
  {
   "cell_type": "markdown",
   "source": [
    "## 15.3 奇异值分解与矩阵近似    "
   ],
   "metadata": {
    "collapsed": false
   }
  },
  {
   "cell_type": "markdown",
   "source": [
    "###    15.3.1 弗罗贝尼乌斯范数    "
   ],
   "metadata": {
    "collapsed": false
   }
  },
  {
   "cell_type": "markdown",
   "source": [
    "###    15.3.2 矩阵的优近似    "
   ],
   "metadata": {
    "collapsed": false
   }
  },
  {
   "cell_type": "markdown",
   "source": [
    "###    15.3.3 矩阵的外积展开式 \n"
   ],
   "metadata": {
    "collapsed": false
   }
  }
 ],
 "metadata": {
  "kernelspec": {
   "display_name": "Python 3",
   "language": "python",
   "name": "python3"
  },
  "language_info": {
   "codemirror_mode": {
    "name": "ipython",
    "version": 2
   },
   "file_extension": ".py",
   "mimetype": "text/x-python",
   "name": "python",
   "nbconvert_exporter": "python",
   "pygments_lexer": "ipython2",
   "version": "2.7.6"
  },
  "pycharm": {
   "stem_cell": {
    "cell_type": "raw",
    "source": [],
    "metadata": {
     "collapsed": false
    }
   }
  }
 },
 "nbformat": 4,
 "nbformat_minor": 0
}