{
 "cells": [
  {
   "cell_type": "markdown",
   "metadata": {
    "pycharm": {
     "name": "#%% md\n"
    }
   },
   "source": [
    "# 第19章 马尔可夫链蒙特卡罗法  之 采样算法\n",
    "\n",
    "**马尔可夫链蒙特卡罗法**（Markov Chain Monte Carlo, MCMC）是以马尔可夫链为概率模型的蒙特卡罗法。\n",
    "在了解MCMC方法之前，需要了解一下**蒙特卡罗法**及其常见的几种采样方法。\n",
    "\n",
    "**蒙特卡罗法** 是通过从概率模型的随机采样进行近似数值计算的方法。\n",
    "采样算法的目的就是**从给定的分布中生成随机样本**。\n",
    "这里介绍几种简单的采样方法，包括从**标准分布采样**、**接受-拒绝采样**、**重要性采样**、**SIR采样**。\n",
    "在介绍了传统的采样方法之后，将介绍传统算法的缺陷，从而引出MCMC方法的优越性。\n",
    "\n",
    "这一部分主要是为了增加对采样方法的理解，接受-拒绝采样部分使用了李航老师的资料，其他部分采用了PRML中的介绍。\n",
    "\n",
    "    蒙特卡罗法    \n",
    "        1. 标准分布采样\n",
    "        2. 接受拒绝采样\n",
    "        3. 重要性采样\n",
    "        4. SIR采样\n",
    "        \n",
    "    蒙特卡罗法的应用\n",
    "    \n",
    "参考资料\n",
    "https://towardsdatascience.com/markov-chain-monte-carlo-in-python-44f7e609be98\n",
    "\n",
    "https://github.com/WillKoehrsen/ai-projects/blob/master/markov_chain_monte_carlo/markov_chain_monte_carlo.ipynb\n",
    "\n",
    "https://www.cs.princeton.edu/courses/archive/spr06/cos598C/papers/AndrieuFreitasDoucetJordan2003.pdf\n",
    "\n",
    "https://github.com/ctgk/PRML/blob/master/notebooks/ch11_Sampling_Methods.ipynb\n"
   ]
  },
  {
   "cell_type": "code",
   "execution_count": 1,
   "metadata": {},
   "outputs": [],
   "source": [
    "import random\n",
    "import math\n",
    "import matplotlib.pyplot as plt\n",
    "import seaborn as sns\n",
    "import numpy as np\n",
    "import scipy.stats as stats\n",
    "\n",
    "%matplotlib inline\n",
    "sns.set_style('darkgrid')\n",
    "plt.rcParams['figure.figsize'] = (12, 8)"
   ]
  },
  {
   "cell_type": "markdown",
   "metadata": {},
   "source": [
    "## 1. 蒙特卡罗法    \n",
    "\n",
    "统计学和机器学习的目的是基于数据对概率分布的特征进行推断，蒙特卡罗法要解决的问题是，假设概率分布的定义己知，通过抽样获得概率分布的随机样本，并通过得到的随机样本对概率分布的特征进行分析。\n",
    "比如，从样本得到经验分布，从而估计总体分布；或者从样本汁算出样本均值，从而估计总体期望。\n",
    "所以蒙特卡罗法的核心是随机抽样（random sampling) 。\n",
    "\n",
    "一般的蒙特卡洛法有直接抽样法、接受-拒绝抽样法、重要性抽样法等。\n",
    "接受-拒绝抽样法、重要性抽样法适合于概率密度函数复杂（如密度函数含有多个变量，各变量相互不独立，密度函数形式复杂），不能直接抽样的情况。"
   ]
  },
  {
   "cell_type": "markdown",
   "metadata": {},
   "source": [
    "###  1.1 直接采样法\n",
    "\n",
    "从标准分布中直接采样是最简单、最理想的一种采样方法。\n",
    "我们仅仅需要一个介于$(0,1)$的均匀分布生成器就可以开始工作了。"
   ]
  },
  {
   "cell_type": "code",
   "execution_count": 2,
   "metadata": {},
   "outputs": [
    {
     "data": {
      "text/plain": [
       "0.6695818348686509"
      ]
     },
     "execution_count": 2,
     "metadata": {},
     "output_type": "execute_result"
    }
   ],
   "source": [
    "np.random.uniform(0,1)"
   ]
  },
  {
   "cell_type": "markdown",
   "metadata": {},
   "source": [
    "假设变量$z$服从$(0,1)$均匀分布，那么我们可以用某个函数$f(\\cdot)$把$z$转化成变量$y$。\n",
    "如果变量$y$的形式是$y=f(z)$，那么$y$的概率分布函数如下\n",
    "\n",
    "$$ p(y) = p(z) \\left| \\frac{dz}{dy} \\right| $$\n",
    "\n",
    "对概率密度函数进行积分后，就得到了累计分布函数\n",
    "\n",
    "$$ z = h(y) = \\int_{-\\infty}^{y} p(y)dy$$\n",
    "\n",
    "找到 $h(\\cdot)$ ，把变量 $y$ 写成 $y=h^{-1}(z)$ 的形式，这样就可以用均匀分布 $z$ 实现标准分布的直接采样。"
   ]
  },
  {
   "cell_type": "markdown",
   "metadata": {},
   "source": [
    "#### 案例一 指数分布\n",
    "\n",
    "指数分布的概率密度函数是 $p(y)=\\lambda \\exp(-\\lambda y)$，对概率密度函数积分可以得到累计分布函数 \n",
    "\n",
    "$$z=h(y)=1-\\exp(-\\lambda y)$$\n",
    "\n",
    "把 $y$ 写成 $z$ 的函数，则有 \n",
    "\n",
    "$$y = -\\lambda^{-1} \\ln(1-z)$$"
   ]
  },
  {
   "cell_type": "code",
   "execution_count": 3,
   "metadata": {},
   "outputs": [],
   "source": [
    "def exp_dist(x, _lambda=0.1):\n",
    "    return _lambda * np.exp(-_lambda * x)\n",
    "\n",
    "def invert_exp_pdf(x, _lambda=0.1):\n",
    "    return - (1/_lambda) * np.log(1-x)"
   ]
  },
  {
   "cell_type": "code",
   "execution_count": 36,
   "metadata": {},
   "outputs": [
    {
     "data": {
      "image/png": "[encoded data removed]",
      "text/plain": [
       "<Figure size 432x288 with 1 Axes>"
      ]
     },
     "metadata": {
      "needs_background": "light"
     },
     "output_type": "display_data"
    }
   ],
   "source": [
    "x_list = np.linspace(0, 1, 1000, endpoint=False)[1:]\n",
    "samples = invert_exp_pdf(x_list)\n",
    "n, bins, patches = plt.hist(samples, bins=100, density=True,label='sampling')\n",
    "\n",
    "y = exp_dist(bins)\n",
    "plt.plot(bins, y,label='f(x)')\n",
    "\n",
    "plt.show()"
   ]
  },
  {
   "cell_type": "markdown",
   "metadata": {},
   "source": [
    "### 1.2 接受-拒绝抽样法\n",
    "\n",
    "\n",
    "上面介绍的直接采样算法需要先计算累计分布函数的反函数。\n",
    "也就是说，当我们无法得到某个分布的累计分布反函数时，我们就无法直接采样。\n",
    "\n",
    "**接受-拒绝抽样法**（accept-reject sampling method）的思想是通过容易采样的分布来计算比较难以采样的分布。\n",
    "\n",
    "找一个可以直接抽样的分布，称为建议分布（proposal distribution) ，常见的辅助分布包括**均匀分布**或者**正态分布**等。\n",
    "假设 $q(z)$ 是建议分布的概率密度函数，并且可以保证 $q(z)$ 的 $c$ 倍一定大于等于$p(z)$，其中$c>0$。\n",
    "常数$c$的值越小越好，理想情况下是$1$。\n",
    "\n",
    "现在进行两次采样——\n",
    "首先从$q(z)$中采样得到样本$z$，\n",
    "随后从$(0,1)$均匀分布中采样得到样本$u$。\n",
    "此时，如果 $ u \\leq \\frac{p(z)}{cq(z)}$，那么就接受样本$z$。"
   ]
  },
  {
   "cell_type": "markdown",
   "metadata": {},
   "source": [
    "#### 接受-拒绝抽样法流程\n",
    "\n",
    "输入：抽样的目标概率分布的概率密度函数 $p(z)$；\n",
    "\n",
    "输出：概率分布的随机样本$x_1, x_2, \\cdots, x_n$。\n",
    "\n",
    "参数：样本数 $n$\n",
    "\n",
    "* 1. 选择建议分布为$q(x)$。\n",
    "* 2. 按照建议分布$q(x)$随机抽样得到样本$z$\n",
    "* 3. 按照均匀分布在$(0,1)$范围内抽样得到$u$\n",
    "* 4. 如果$u \\leq \\frac{p(z)}{cq(z)}$，则将$z$作为抽样结果；否则，回到步骤$2$。\n",
    "* 5. 直至得到$n$个随机样本，结束。"
   ]
  },
  {
   "cell_type": "code",
   "execution_count": 70,
   "metadata": {},
   "outputs": [],
   "source": [
    "def rejection_sampling(_target_func, _propose_func, c, num):\n",
    "    \"\"\"\n",
    "    perform rejection sampling n times\n",
    "    \n",
    "    Parameters\n",
    "    ----------\n",
    "    _target_func : callable\n",
    "        (un)normalized distribution to be sampled from\n",
    "    _propose_func : RandomVariable\n",
    "        distribution to generate sample\n",
    "    c : float\n",
    "        constant to be multiplied with the distribution\n",
    "    n : int\n",
    "        number of samples to draw\n",
    "    Returns\n",
    "    -------\n",
    "    sample : (n, ndim) ndarray\n",
    "        generated sample\n",
    "    \"\"\"\n",
    "\n",
    "    sample = []\n",
    "    sample_num = 0\n",
    "    trial_num = 0\n",
    "\n",
    "    # 得到 $n$ 个随机样本\n",
    "    while True:\n",
    "        # 按照建议分布 $q(x)$ 随机抽样得到样本 $z$ \n",
    "        z = _propose_func.rvs()\n",
    "        \n",
    "        # 按照均匀分布在$(0,1)$范围内抽样得到 $u$\n",
    "        u = np.random.uniform(0, 1)\n",
    "        \n",
    "        # 如果$u < \\frac{p(z)}{cq(z)}$，则将 $z$ 作为抽样结果；否则，回到步骤$2$。\n",
    "        p_z = _target_func(z)\n",
    "        q_z = _propose_func.pdf(z)\n",
    "        if u <= p_z / (c * q_z):\n",
    "            sample.append(z)\n",
    "            sample_num += 1\n",
    "        trial_num += 1\n",
    "        if sample_num > num:\n",
    "            return sample, (sample_num / trial_num)"
   ]
  },
  {
   "cell_type": "code",
   "execution_count": 73,
   "metadata": {},
   "outputs": [],
   "source": [
    "def plot_reject_sampling(_target, _propose, c=15, num=5000):\n",
    "    \n",
    "    samples, trial_rate = rejection_sampling(_target, _propose, c, num)\n",
    "    print(f\"采样效率（样本数量/采样次数）= {trial_rate * 100: 2.2f}%\")\n",
    "\n",
    "    fig = plt.figure()\n",
    "\n",
    "    # 绘制 接受-拒绝采样法 得到的样本点\n",
    "    ax1 = fig.add_subplot(111)\n",
    "    _, bins, _ = plt.hist(samples, bins=100, label='sampling', color=\"blue\")\n",
    "    ax1.set_ylabel('hist')\n",
    "    ax1.set_title(\"Rejection sampling\")\n",
    "\n",
    "    # 绘制 目标分布 和 建议分布\n",
    "    ax2 = ax1.twinx()\n",
    "    plt.plot(bins, target(bins))\n",
    "    plt.plot(bins, c * propose.pdf(bins), label=r\"$kq(z)$\")\n",
    "    ax2.set_ylabel('prob')\n",
    "\n",
    "    plt.show()"
   ]
  },
  {
   "cell_type": "markdown",
   "metadata": {},
   "source": [
    "#### 案例二\n",
    "\n",
    "以正态分布作为建议分布，用接受-拒绝采样法进行采样。\n",
    "下图中的橙色曲线代表建议分布，蓝色曲线代表要进行采样的复杂分布，直方图代表接受-拒绝采样法得到的样本点。"
   ]
  },
  {
   "cell_type": "code",
   "execution_count": 74,
   "metadata": {},
   "outputs": [
    {
     "name": "stdout",
     "output_type": "stream",
     "text": [
      "采样效率（样本数量/采样次数）=  47.42%\n"
     ]
    },
    {
     "data": {
      "image/png": "[encoded data removed]",
      "text/plain": [
       "<Figure size 432x288 with 2 Axes>"
      ]
     },
     "metadata": {
      "needs_background": "light"
     },
     "output_type": "display_data"
    }
   ],
   "source": [
    "def target(x):\n",
    "    return np.exp(-x ** 2) + 3 * np.exp(-(x - 3) ** 2)\n",
    "\n",
    "propose = stats.norm(loc=np.array([2.]), scale=np.array([1.5]))\n",
    "\n",
    "plot_reject_sampling(target, propose, c=15, num=5000)"
   ]
  },
  {
   "cell_type": "markdown",
   "metadata": {},
   "source": [
    "#### 案例三\n",
    "\n",
    "以均匀分布作为建议分布，用接受-拒绝采样法进行采样。\n",
    "下图中的橙色曲线代表建议分布，蓝色曲线代表要进行采样的复杂分布，直方图代表接受-拒绝采样法得到的样本点。"
   ]
  },
  {
   "cell_type": "code",
   "execution_count": 75,
   "metadata": {},
   "outputs": [
    {
     "name": "stdout",
     "output_type": "stream",
     "text": [
      "采样效率（样本数量/采样次数）=  29.90%\n"
     ]
    },
    {
     "data": {
      "image/png": "[encoded data removed]",
      "text/plain": [
       "<Figure size 432x288 with 2 Axes>"
      ]
     },
     "metadata": {
      "needs_background": "light"
     },
     "output_type": "display_data"
    }
   ],
   "source": [
    "def target(x):\n",
    "    return np.exp(-x ** 2) + 3 * np.exp(-(x - 3) ** 2)\n",
    "\n",
    "propose = stats.uniform(-2, 5)\n",
    "\n",
    "plot_reject_sampling(target, propose, c=15, num=5000)"
   ]
  },
  {
   "cell_type": "markdown",
   "metadata": {},
   "source": [
    "接受-拒绝法的优点是容易实现，缺点是效率可能不高。\n",
    "如果 $p(x)$ 的涵盖体积占 $cq(x)$ 的涵盖体积的比例很低，就会导致拒绝的比例很高，抽样效率很低。\n",
    "注意，一般是在高维空间进行抽样，即使$p(x)$与$cq(a)$很接近，两者涵盖体积的差异也可能很大。\n",
    "\n",
    "以上面的两个案例来说，因为正态分布和目标分布比较相似，所以以正态分布作为建议分布的采样效率达到 47.42%；相比之下，均匀分布作为建议分布的采样效率仅仅为 29.90%。"
   ]
  },
  {
   "cell_type": "markdown",
   "metadata": {},
   "source": [
    "### 1.3 重要性采样\n",
    "\n",
    "\n",
    "\n"
   ]
  }
 ],
 "metadata": {
  "kernelspec": {
   "display_name": "Python 3",
   "language": "python",
   "name": "python3"
  },
  "language_info": {
   "codemirror_mode": {
    "name": "ipython",
    "version": 3
   },
   "file_extension": ".py",
   "mimetype": "text/x-python",
   "name": "python",
   "nbconvert_exporter": "python",
   "pygments_lexer": "ipython3",
   "version": "3.7.4"
  },
  "pycharm": {
   "stem_cell": {
    "cell_type": "raw",
    "metadata": {
     "collapsed": false
    },
    "source": []
   }
  }
 },
 "nbformat": 4,
 "nbformat_minor": 4
}
