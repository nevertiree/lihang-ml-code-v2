{
 "cells": [
  {
   "cell_type": "markdown",
   "metadata": {
    "collapsed": true,
    "pycharm": {
     "name": "#%% md\n"
    }
   },
   "source": [
    "# 第20章 潜在狄利克雷分配    \n",
    "    \n",
    "    20.1 狄利克雷分布    \n",
    "        20.1.1 分布定义    \n",
    "        20.1.2 共轭先验    \n",
    "    20.2 潜在狄利克雷分配模型    \n",
    "        20.2.1 基本想法    \n",
    "        20.2.2 模型定义    \n",
    "        20.2.3 概率图模型    \n",
    "        20.2.4 随机变量序列的可交换性    \n",
    "        20.2.5 概率公式    \n",
    "    20.3 LDA 的吉布斯抽样算法    \n",
    "        20.3.1 基本想法    \n",
    "        20.3.2 算法的主要部分    \n",
    "        20.3.3 算法的后处理    \n",
    "        20.3.4 算法    \n",
    "    20.4 LDA 的变分 EM 算法    \n",
    "        20.4.1 变分推理    \n",
    "        20.4.2 变分 EM 算法    \n",
    "        20.4.3 算法推导    \n",
    "        20.4.4 算法总结   \n",
    "        "
   ]
  },
  {
   "cell_type": "markdown",
   "source": [
    "## 20.1 狄利克雷分布    "
   ],
   "metadata": {
    "collapsed": false,
    "pycharm": {
     "name": "#%% md\n"
    }
   }
  },
  {
   "cell_type": "markdown",
   "source": [
    "###     20.1.1 分布定义    "
   ],
   "metadata": {
    "collapsed": false
   }
  },
  {
   "cell_type": "markdown",
   "source": [
    "###     20.1.2 共轭先验    "
   ],
   "metadata": {
    "collapsed": false
   }
  },
  {
   "cell_type": "markdown",
   "source": [
    "## 20.2 潜在狄利克雷分配模型    "
   ],
   "metadata": {
    "collapsed": false
   }
  },
  {
   "cell_type": "markdown",
   "source": [
    "###     20.2.1 基本想法    "
   ],
   "metadata": {
    "collapsed": false
   }
  },
  {
   "cell_type": "markdown",
   "source": [
    "###     20.2.2 模型定义    "
   ],
   "metadata": {
    "collapsed": false
   }
  },
  {
   "cell_type": "markdown",
   "source": [
    "###     20.2.3 概率图模型    "
   ],
   "metadata": {
    "collapsed": false
   }
  },
  {
   "cell_type": "markdown",
   "source": [
    "###     20.2.4 随机变量序列的可交换性    "
   ],
   "metadata": {
    "collapsed": false
   }
  },
  {
   "cell_type": "markdown",
   "source": [
    "###     20.2.5 概率公式    "
   ],
   "metadata": {
    "collapsed": false
   }
  },
  {
   "cell_type": "markdown",
   "source": [
    "## 20.3 LDA 的吉布斯抽样算法    "
   ],
   "metadata": {
    "collapsed": false
   }
  },
  {
   "cell_type": "markdown",
   "source": [
    "###     20.3.1 基本想法    "
   ],
   "metadata": {
    "collapsed": false
   }
  },
  {
   "cell_type": "markdown",
   "source": [
    "###     20.3.2 算法的主要部分    "
   ],
   "metadata": {
    "collapsed": false
   }
  },
  {
   "cell_type": "markdown",
   "source": [
    "###     20.3.3 算法的后处理    "
   ],
   "metadata": {
    "collapsed": false
   }
  },
  {
   "cell_type": "markdown",
   "source": [
    "###     20.3.4 算法    "
   ],
   "metadata": {
    "collapsed": false
   }
  },
  {
   "cell_type": "markdown",
   "source": [
    "## 20.4 LDA 的变分 EM 算法    "
   ],
   "metadata": {
    "collapsed": false
   }
  },
  {
   "cell_type": "markdown",
   "source": [
    "###     20.4.1 变分推理    "
   ],
   "metadata": {
    "collapsed": false
   }
  },
  {
   "cell_type": "markdown",
   "source": [
    "###     20.4.2 变分 EM 算法    "
   ],
   "metadata": {
    "collapsed": false
   }
  },
  {
   "cell_type": "markdown",
   "source": [
    "###     20.4.3 算法推导    "
   ],
   "metadata": {
    "collapsed": false
   }
  },
  {
   "cell_type": "markdown",
   "source": [
    "###     20.4.4 算法总结   "
   ],
   "metadata": {
    "collapsed": false,
    "pycharm": {
     "name": "#%% md\n"
    }
   }
  }
 ],
 "metadata": {
  "kernelspec": {
   "display_name": "Python 3",
   "language": "python",
   "name": "python3"
  },
  "language_info": {
   "codemirror_mode": {
    "name": "ipython",
    "version": 2
   },
   "file_extension": ".py",
   "mimetype": "text/x-python",
   "name": "python",
   "nbconvert_exporter": "python",
   "pygments_lexer": "ipython2",
   "version": "2.7.6"
  },
  "pycharm": {
   "stem_cell": {
    "cell_type": "raw",
    "source": [],
    "metadata": {
     "collapsed": false
    }
   }
  }
 },
 "nbformat": 4,
 "nbformat_minor": 0
}