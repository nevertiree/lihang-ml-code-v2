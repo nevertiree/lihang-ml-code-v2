{
 "cells": [
  {
   "cell_type": "markdown",
   "metadata": {
    "collapsed": true,
    "pycharm": {
     "name": "#%% md\n"
    }
   },
   "source": [
    "# 第16章 主成分分析    \n",
    "     \n",
    "    16.1 总体主成分分析    \n",
    "        16.1.1 基本想法    \n",
    "        16.1.2 定义和导出    \n",
    "        16.1.3 主要性质    \n",
    "        16.1.4 主成分的个数    \n",
    "        16.1.5 规范化变量的总体主成分    \n",
    "    16.2 样本主成分分析    \n",
    "        16.2.1 样本主成分的定义和性质    \n",
    "        16.2.2 相关矩阵的特征值分解算法    \n",
    "        16.2.3 数据局正的奇异值分解算法   \n",
    "        "
   ]
  },
  {
   "cell_type": "markdown",
   "source": [
    "## 16.1 总体主成分分析    "
   ],
   "metadata": {
    "collapsed": false
   }
  },
  {
   "cell_type": "markdown",
   "source": [
    "###     16.1.1 基本想法    "
   ],
   "metadata": {
    "collapsed": false
   }
  },
  {
   "cell_type": "markdown",
   "source": [
    "###     16.1.2 定义和导出    "
   ],
   "metadata": {
    "collapsed": false
   }
  },
  {
   "cell_type": "markdown",
   "source": [
    "###     16.1.3 主要性质    "
   ],
   "metadata": {
    "collapsed": false
   }
  },
  {
   "cell_type": "markdown",
   "source": [
    "###     16.1.4 主成分的个数    "
   ],
   "metadata": {
    "collapsed": false
   }
  },
  {
   "cell_type": "markdown",
   "source": [
    "###     16.1.5 规范化变量的总体主成分    "
   ],
   "metadata": {
    "collapsed": false
   }
  },
  {
   "cell_type": "markdown",
   "source": [
    "## 16.2 样本主成分分析    "
   ],
   "metadata": {
    "collapsed": false
   }
  },
  {
   "cell_type": "markdown",
   "source": [
    "###     16.2.1 样本主成分的定义和性质    "
   ],
   "metadata": {
    "collapsed": false
   }
  },
  {
   "cell_type": "markdown",
   "source": [
    "###     16.2.2 相关矩阵的特征值分解算法    "
   ],
   "metadata": {
    "collapsed": false
   }
  },
  {
   "cell_type": "markdown",
   "source": [
    "###     16.2.3 数据局正的奇异值分解算法   "
   ],
   "metadata": {
    "collapsed": false,
    "pycharm": {
     "name": "#%% md\n"
    }
   }
  }
 ],
 "metadata": {
  "kernelspec": {
   "display_name": "Python 3",
   "language": "python",
   "name": "python3"
  },
  "language_info": {
   "codemirror_mode": {
    "name": "ipython",
    "version": 2
   },
   "file_extension": ".py",
   "mimetype": "text/x-python",
   "name": "python",
   "nbconvert_exporter": "python",
   "pygments_lexer": "ipython2",
   "version": "2.7.6"
  },
  "pycharm": {
   "stem_cell": {
    "cell_type": "raw",
    "source": [],
    "metadata": {
     "collapsed": false
    }
   }
  }
 },
 "nbformat": 4,
 "nbformat_minor": 0
}