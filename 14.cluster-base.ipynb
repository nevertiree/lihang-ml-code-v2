{
 "cells": [
  {
   "cell_type": "markdown",
   "metadata": {
    "pycharm": {
     "name": "#%% md\n"
    }
   },
   "source": [
    "# 第14章 聚类方法    \n",
    "\n",
    "    14.1 聚类的基本概念    \n",
    "        14.1.1 相似度或距离    \n",
    "        14.1.2 类或簇    \n",
    "        14.1.3 类与类之间的距离      "
   ]
  },
  {
   "cell_type": "markdown",
   "metadata": {},
   "source": [
    "聚类是针对给定的样本，依据它们特征的相似度或距离，将其归并到若干个“类”或“簇”的数据分析问题。\n",
    "一个类是给定样本集合的一个子集。\n",
    "直观上，相似的样本聚集在相同的类，不相似的样本分散在不同的类。\n",
    "这里，样本之间的相似度或距离起着重要作用。\n",
    "\n",
    "聚类的目的是通过得到的类或簇来发现数据的特点或对数据进行处理，在数据挖掘、模式识别等领域有着广泛的应用。\n",
    "聚类属于无监齊学习，因为只是根据样本的相似度或距离将其进行归类，而类或簇事先并不知道。\n",
    "\n",
    "聚类算法很多，本章介绍两种最常用的聚类算法：\n",
    "\n",
    "层次聚类（hierarchical clustering）和k均值聚类（k-means clustering）。\n",
    "层次聚类又有聚合（自下而上）和分裂（自上而下）两种方法。\n",
    "聚合法开始将每个样本各自分到一个类；\n",
    "之后将相距最近的两类合并，建立一个新的类，重复此操作直到满足停止条件；\n",
    "得到层次化的类别。\n",
    "分裂法开始将所有样本分到一个类；\n",
    "之后将己有类中相距最远的样本分到两个新的类，重复此操作直到满足停止条件；得到层次化的类别。\n",
    "\n",
    "k均值聚类是基于中心的聚类方法，通过迭代，将样本分到$k$个类中，使得每个样本与其所属类的中心或均值最近；\n",
    "得到$k$个“平坦的”、非层次化的类别，构成对空间的划分。"
   ]
  },
  {
   "cell_type": "markdown",
   "metadata": {
    "pycharm": {
     "name": "#%% md\n"
    }
   },
   "source": [
    "## 14.1 聚类的基本概念\n",
    "\n",
    "本节介绍聚类的基本概念，包括样本之间的距离或相似度，类或簇，类与类之间的距离。"
   ]
  },
  {
   "cell_type": "markdown",
   "metadata": {},
   "source": [
    "### 14.1.1 相似度或距离\n",
    "\n",
    "聚类的对象是观测数据，或样本集合。\n",
    "假设有$n$个样本，每个样本由$m$个属性的特征向量组成。\n",
    "样本集合可以用矩阵$X$表示\n",
    "\n",
    "$$X=\\left[x_{i j}\\right]_{m \\times n}=\\left[\\begin{array}{cccc}\n",
    "{x_{11}} & {x_{12}} & {\\cdots} & {x_{1 n}} \\\\\n",
    "{x_{21}} & {x_{22}} & {\\cdots} & {x_{2 n}} \\\\\n",
    "{\\vdots} & {\\vdots} & {} & {\\vdots} \\\\\n",
    "{x_{m 1}} & {x_{m 2}} & {\\cdots} & {x_{m n}}\n",
    "\\end{array}\\right]$$\n",
    "\n",
    "矩阵的第$j$列表示第$j$个样本，$j=1,2,\\cdots,n$，第$i$行表示第$i$个属性，$i=1,2,\\cdots,m$；\n",
    "矩阵元素$x_{ij}$表示第$j$个样本的第$i$个属性值，$i=1,2,\\cdots,m$; $j=1,2,\\cdots,n$。\n",
    "\n",
    "聚类的核心概念是相似度（similarity）或距离（distance），有多种相似度或距离的定义。\n",
    "因为相似度直接影响聚类的结果，所以其选择是聚类的根本问题。\n",
    "具体哪种相似度更合适取决于应用问题的特性。\n",
    "\n",
    "这里介绍Minkowski距离（包括Euclidean距离、Manhattan和Chebyshev距离）、Mahalaiiobis距离、相关系数。"
   ]
  },
  {
   "cell_type": "markdown",
   "metadata": {},
   "source": [
    "#### 1.闵可夫斯基距离\n",
    "在聚类中，可以将样本集合看作是向量空间中点的集合，以该空间的距离表示样本之间的相似度。\n",
    "常用的距离有闵可夫斯甚距离，特别是欧氏距离。\n",
    "闵可夫斯基距离越大相似度越小，距离越小相似度越大。"
   ]
  },
  {
   "cell_type": "markdown",
   "metadata": {},
   "source": [
    "给定样本集合$X$，$X$是$m$维实数向量空间$R^m$中点的集合，其中\n",
    "$x_i, x_j \\in X, x_i=(x_{1i},x_{2i},\\cdots,x_{mi})^T, x_j=(x_{1j},x_{2j},\\cdots,x_{mj})^T$\n",
    "样本$x_i$与样本$x_j$的闵可夫斯基距离（Minkowski distance）定义为\n",
    "\n",
    "$$d_{i j}=\\left(\\sum_{k=1}^{m}\\left|x_{k i}-x_{k j}\\right|^{p}\\right)^{\\frac{1}{p}}$$\n",
    "\n",
    "这里$p \\geq 1$。当$p=2$时称为欧氏距离（Euclidean distance），即\n",
    "\n",
    "$$d_{i j}=\\left(\\sum_{k=1}^{m}\\left|x_{k i}-x_{k j}\\right|^{2}\\right)^{\\frac{1}{2}}$$\n",
    "\n",
    "当$p=1$时称为曼哈顿距离（Manhattan distance），即\n",
    "\n",
    "$$d_{i j}=\\sum_{k=1}^{m}\\left|x_{k i}-x_{k j}\\right|$$\n",
    "\n",
    "当$p = \\infty$时称为切比雪夫距离（Chebyshev distance），取各个坐标数值差的绝对值的最大值，即\n",
    "\n",
    "$$d_{i j}=\\max_{k}\\left|x_{k i}-x_{k j}\\right|$$"
   ]
  },
  {
   "cell_type": "markdown",
   "metadata": {},
   "source": [
    "#### 2.马哈拉诺比斯距离\n",
    "\n",
    "马哈拉诺比斯距离（Mahalaiiobis distance），简称马氏距离，也是另一种常用的相似度似度，考虑各个分量（特征）之间的相关性并与各个分量的尺度无关。\n",
    "马哈拉诺比斯距离越大相似度越小，距离越小相似度越大。\n",
    "\n",
    "给定一个样本集合$X$，$X=\\left[x_{ij}\\right]_{m*n}$ ，其协方差矩阵记作$S$。\n",
    "样本$x_i$与样本$x_j$之间的马哈拉诺比斯距离$d_{ij}$定义为\n",
    "\n",
    "$$d_{ij}=\\left[(x_i-x_j)^T S^{-1} (x_i-x_j)\\right]^2$$\n",
    "\n",
    "其中\n",
    "\n",
    "$$x_i = (x_{1i}, x_{2i},\\cdots,x_{mi}), x_j = (x_{1j}, x_{2j},\\cdots,x_{mj})$$\n",
    "\n",
    "当$S$为单位矩阵时，即样本数据的各个分量互相独立且各个分量的方差为$1$时，马氏距离就是欧氏距离，所以马氏距离是欧氏距离的推广。"
   ]
  },
  {
   "cell_type": "markdown",
   "metadata": {},
   "source": [
    "#### 3.相关系数\n",
    "\n",
    "样本之间的相似度也可以用相关系数（correlation coefficient）来表示。\n",
    "相关系数的绝对值越接近于$1$，表示样木越相似；\n",
    "越接近$0$，表示样本越不相似。\n",
    "\n",
    "样本$x_i$与样本$x_j$之间的相关系数定义为\n",
    "\n",
    "$$r_{i j}=\\frac{\\sum_{k=1}^{m}\\left(x_{k i}-\\bar{x}_{i}\\right)\\left(x_{k j}-\\bar{x}_{j}\\right)}{\\left[\\sum_{k=1}^{m}\\left(x_{k i}-\\bar{x}_{i}\\right)^{2} \\sum_{k=1}^{m}\\left(x_{k j}-\\bar{x}_{j}\\right)^{2}\\right]^{\\frac{1}{2}}}$$\n",
    "\n",
    "其中\n",
    "\n",
    "$$\\bar{x}_{i}=\\frac{1}{m} \\sum_{k=1}^{m} x_{k i}, \\quad \\bar{x}_{j}=\\frac{1}{m} \\sum_{k=1}^{m} x_{k j}$$\n"
   ]
  },
  {
   "cell_type": "markdown",
   "metadata": {},
   "source": [
    "#### 4.夹角余弦\n",
    "\n",
    "样本之间的相似度也可以用夹角余弦（cosine）来表示。\n",
    "夹角余弦越接近$1$，表示样本越相似；\n",
    "越接近于$0$，表示样本越不相似。\n",
    "\n",
    "$$s_{i j}=\\frac{\\sum_{k=1}^{m} x_{k i} x_{k j}}{\\left[\\sum_{k=1}^{m} x_{k i}^{2} \\sum_{k=1}^{m} x_{k j}^{2}\\right]^{\\frac{1}{2}}}$$"
   ]
  },
  {
   "cell_type": "markdown",
   "metadata": {},
   "source": [
    "### 14.1.2 类或簇    "
   ]
  },
  {
   "cell_type": "markdown",
   "metadata": {},
   "source": [
    "通过聚类得到的类或簇，本质是样本的子集。\n",
    "如果一个聚类方法假定一个样本只能属于一个类，或类的交集为空集，那么该方法称为硬聚类（hard clustering）方法。\n",
    "否则，如果一个样本可以属于多个类，或类的交集不为空集，那么该方法称为软聚类（soft clustering）方法。\n",
    "本章只考虑硬聚类方法。\n",
    "\n",
    "用$G$表示类或簇（cluster），用$x_i,x_j$，表示类中的样本，用$n_G$表示$G$中样本的\n",
    "个数，用$d_{ij}$表示样本$x_i$与样本$x_j$之间的距离。\n",
    "类或簇有多种定义，下面给出几个常见的定义。"
   ]
  },
  {
   "cell_type": "markdown",
   "metadata": {},
   "source": [
    "### 14.1.3 类与类之间的距离    "
   ]
  },
  {
   "cell_type": "markdown",
   "metadata": {},
   "source": [
    "下面考虑类$G_p$与类$G_q$之间的距离$D(p,q)$，也称为连接(linkage)。\n",
    "类与类之间的距离也有多种定义。\n",
    "\n",
    "设类$G_p$包含$n_p$个样本，$G_q$包含$n_q$个样本，分别用$\\hat{x}_p$ 和 $\\hat{x}_q$ 表示 $G_p$ 和 $G_q$ 的均值，即类的中心。\n",
    "\n",
    "##### 1.最短距离或单连接（single linkage）\n",
    "\n",
    "定义类 $G_p$ 的样本与 $G_q$ 的样本之间的最短距离为两类之间的距离\n",
    "\n",
    "$$D_{p q}=\\min \\left\\{d_{i j} | x_{i} \\in G_{p}, x_{j} \\in G_{q}\\right\\}$$\n",
    "\n",
    "##### 2.最长距离或完全连接（complete linkage）\n",
    "\n",
    "定义类 $G_p$ 的样本与 $G_q$ 的样本之间的最长距离为两类之间的距离\n",
    "\n",
    "$$D_{p q}=\\max \\left\\{d_{i j} | x_{i} \\in G_{p}, x_{j} \\in G_{q}\\right\\}$$\n",
    "\n",
    "##### 3.中心距离\n",
    "\n",
    "定义类 $G_p$ 与类 $G_q$ 的中心 $\\hat{x}_p$ 与 $\\hat{x}_q$ 之间的距离为两类之间的距离\n",
    "\n",
    "$$ D_{pq} = d_{x_px_q}$$\n",
    "\n",
    "##### 4.平均距离\n",
    "\n",
    "定义类 $G_p$ 与类 $G_q$ 任意两个样本之间距离的平均值为两类之间的距离\n",
    "\n",
    "$$D_{p q}=\\frac{1}{n_{p} n_{q}} \\sum_{x_{i} \\in G_{p}, x_{j} \\in G_{q}} d_{i j}$$"
   ]
  }
 ],
 "metadata": {
  "kernelspec": {
   "display_name": "Python 3",
   "language": "python",
   "name": "python3"
  },
  "language_info": {
   "codemirror_mode": {
    "name": "ipython",
    "version": 3
   },
   "file_extension": ".py",
   "mimetype": "text/x-python",
   "name": "python",
   "nbconvert_exporter": "python",
   "pygments_lexer": "ipython3",
   "version": "3.7.4"
  },
  "pycharm": {
   "stem_cell": {
    "cell_type": "raw",
    "metadata": {
     "collapsed": false
    },
    "source": []
   }
  }
 },
 "nbformat": 4,
 "nbformat_minor": 4
}
