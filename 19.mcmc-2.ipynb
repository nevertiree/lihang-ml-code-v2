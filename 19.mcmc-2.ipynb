{
 "cells": [
  {
   "cell_type": "markdown",
   "metadata": {
    "pycharm": {
     "name": "#%% md\n"
    }
   },
   "source": [
    "# 第19章 马尔可夫链蒙特卡罗法 之 马尔可夫链\n",
    "     \n",
    "    19.2 马尔可夫链    \n",
    "        19.2.1 基本定义    \n",
    "        19.2.2 离散状态马尔可夫链    \n",
    "        19.2.3 连续状态马尔可夫链    \n",
    "        19.2.4 马尔可夫链的性质        \n",
    "        \n",
    "阅读资料\n",
    "\n",
    "1. [Markov Chain Analysis and Simulation using Python](https://towardsdatascience.com/markov-chain-analysis-and-simulation-using-python-4507cee0b06e)"
   ]
  },
  {
   "cell_type": "code",
   "execution_count": 1,
   "metadata": {},
   "outputs": [],
   "source": [
    "import random\n",
    "import math\n",
    "import matplotlib.pyplot as plt\n",
    "import seaborn as sns\n",
    "import numpy as np\n",
    "\n",
    "%matplotlib inline\n",
    "sns.set_style('darkgrid')\n",
    "plt.rcParams['figure.figsize'] = (12, 8)"
   ]
  },
  {
   "cell_type": "markdown",
   "metadata": {},
   "source": [
    "## 19.2 马尔可夫链    "
   ]
  },
  {
   "cell_type": "markdown",
   "metadata": {},
   "source": [
    "###     19.2.1 基本定义    "
   ]
  },
  {
   "cell_type": "markdown",
   "metadata": {},
   "source": [
    "#### 马尔可夫链\n",
    "\n",
    "考虑一个随机变量的序列\n",
    "$X=\\{X_0, X_1, \\cdots, X_t, \\cdots \\}$\n",
    "这里 $X_t$ 表示时刻 $t$ 的随机变量，$t=0,1,2,\\cdots$。\n",
    "每个随机变量$X_t(t=0,1,2,\\cdots)$的取值集合相同，称为状态空间，表示为 $S$ 。\n",
    "随机变量可以是离散的，也可以是连续的。\n",
    "以上随机变量的序列构成随机过程 （stochastic process )。\n",
    "\n",
    "假设在时刻$0$的随机变量 $X_0$ 遵循概率分布 $P(X_0)=\\pi_0$，称为初始状态分布。\n",
    "在某个时刻 $t \\geq 1$ 的随机变量 $X_t$ 与前一个时刻的随机变量 $X_{t-1}$ 之间有条件分布 $P(X_t | X_{t-1})$，\n",
    "如果 $X_t$ 只依赖于 $X_{t-1}$，而不依赖于过去的随机变量\n",
    "$\\{X_0,X_1, \\cdots, X_{t-2}\\}$，\n",
    "这一性质称为马尔可夫性，即\n",
    "\n",
    "$$ P\\left(X_{t} | X_{0}, X_{1}, \\cdots, X_{t-1}\\right)=P\\left(X_{t} | X_{t-1}\\right), \\quad t=1,2, \\cdots $$\n",
    "\n",
    "具有马尔可夫性的随机序列 $X = \\{ X_0,X_1, \\cdots,X_t,\\cdots \\}$ 称为马尔可夫链（Markov\n",
    "chain）, 或马尔可夫过程（Markov process）。\n",
    "条件概率分布$P(X_t | X_{t-1})$ 称为马尔可夫链的转移概率分布。\n",
    "转移概率分布决定了马尔可夫链的特性。\n",
    "\n",
    "马尔可夫性的直观解释是“未来只依赖于现在（假设现在已知），而与过去无关”。\n",
    "这个假设在许多应用中是合理的。"
   ]
  },
  {
   "cell_type": "markdown",
   "metadata": {},
   "source": [
    "###     19.2.2 离散状态马尔可夫链    "
   ]
  },
  {
   "cell_type": "markdown",
   "metadata": {},
   "source": [
    "#### 1.转移概率矩阵和状态分布\n",
    "\n",
    "离散状态马尔可夫链 $X = \\{X_0, X_1, \\cdots, X_t, \\cdots \\} $，\n",
    "随机变量 $ X_t(t = 0,1,2, \\cdots)$ 定义在离散空间 $\\mathcal{S}$，转移概率分布可以由矩阵表示。\n",
    "\n",
    "若马尔可夫链在时刻 $(t-1)$ 处于状态 $j$，在时刻 $t$ 移动到状态 $i$，将转移概率记作\n",
    "\n",
    "$$p_{i j}=\\left(X_{t}=i | X_{t-1}=j\\right), \\quad i=1,2, \\cdots ; \\quad j=1,2, \\cdots$$\n",
    "\n",
    "满足\n",
    "\n",
    "$$ p_{i j} \\geqslant 0, \\quad \\sum_{i} p_{i j}=1 $$"
   ]
  },
  {
   "cell_type": "markdown",
   "metadata": {},
   "source": [
    "#### 马尔可夫链应用的例子\n",
    "\n",
    "假设天气的变化具有马尔可夫性， 即明天的天气只依赖于今天的天气，而与昨天及以前的天气无关。\n",
    "这个假设经验上是合理的，至少是现实情况的近似。\n",
    "具体地，比如，如果今天是晴天，那么明天是晴天的概率是$0.9$，是雨天的概率是 $0.1$。\n",
    "如果今天是雨天，那么明天是晴天的概率是 $0.5$，是雨天的概率也是 $0.5$。\n",
    "\n",
    "基于这个马尔可夫链，从一个初始状态出发，随时间在状态之间随机转移，就可以产生天气的序列，可以对天气进行预测。"
   ]
  },
  {
   "cell_type": "code",
   "execution_count": 45,
   "metadata": {},
   "outputs": [],
   "source": [
    "# 天气模型的马尔可夫链转移矩阵可以表示为\n",
    "P = np.array([[.9, .5],\n",
    "             [.1, .5]])\n",
    "\n",
    "# 如果第一天是晴天的话，其天气概率分布（初始状态分布）为\n",
    "pi_init = np.array([[1], [0]])\n",
    "\n",
    "# 根据这个马尔可夫链模型，可以计算第二天、第三天及之后的天气概率分布（状态分布）\n",
    "pi_1 = P @ pi_init\n",
    "pi_2 = P @ P @ pi_init"
   ]
  },
  {
   "cell_type": "markdown",
   "metadata": {},
   "source": [
    "#### 2. 平稳分布\n",
    "\n",
    "设有马尔可夫链 $X={X_0, X_1, \\cdots, X_t, \\cdots}$，其状态空间为 $S$，转移概率矩阵为 $P=(p_{ij})$ ，如果存在状态空间 $S$ 上的一个分布\n",
    "\n",
    "$$ \\pi=\\left[\\begin{array}{c}\n",
    "{\\pi_{1}} \\\\\n",
    "{\\pi_{2}} \\\\\n",
    "{\\vdots}\n",
    "\\end{array}\\right] $$\n",
    "\n",
    "使得\n",
    "\n",
    "$$ \\pi = P\\pi $$\n",
    "\n",
    "则称 $\\pi$ 为马尔可夫链 $X = \\{X_0, X_1, \\cdots, X_t, \\cdots \\}$ 的平稳分布。"
   ]
  },
  {
   "cell_type": "markdown",
   "metadata": {},
   "source": [
    "###     19.2.3 连续状态马尔可夫链    "
   ]
  },
  {
   "cell_type": "markdown",
   "metadata": {},
   "source": [
    "###     19.2.4 马尔可夫链的性质"
   ]
  },
  {
   "cell_type": "markdown",
   "metadata": {},
   "source": [
    "#### 1. 不可约\n",
    "\n",
    "设有马尔可夫链 $X = {X_0, X_1, \\cdots, X_t, \\cdots }$，状态空间为 $S$ 对于任意状态 $i,j \\in S$，如果存在一个时刻 $t(t>0)$ 满足\n",
    "\n",
    "$$ P\\left(X_{t}=i | X_{0}=j\\right)>0 $$\n",
    "\n",
    "也就是说，时刻 $0$ 从状态 $j$ 出发，时刻 $t$ 到达状态 $i$ 的概率大于 $0$，则称此马尔可夫\n",
    "链 $X$ 是不可约的（irreducible），否则称马尔可夫链是可约的（reducible）。\n",
    "\n",
    "直观上，一个不可约的马尔可夫链，从任意状态出发，当经过充分长时间后，可以到达任意状态。"
   ]
  },
  {
   "cell_type": "code",
   "execution_count": 44,
   "metadata": {},
   "outputs": [
    {
     "name": "stdout",
     "output_type": "stream",
     "text": [
      "[[0.]\n",
      " [0.]\n",
      " [1.]]\n"
     ]
    }
   ],
   "source": [
    "# 转移矩阵\n",
    "P = np.array([[.0, .5, .0],\n",
    "             [1, .0, .0],\n",
    "             [.0, .5, 1],])\n",
    "\n",
    "#  初始状态\n",
    "T = np.array([[1], [0], [0]])\n",
    "\n",
    "# 此马尔可夫链，转移到状态3后，就在该状态上循环跳转。\n",
    "# 不能到达状态1和状态2，最终停留在状态3。\n",
    "\n",
    "while True:\n",
    "    if (T == P @ T).all():\n",
    "        print(T)\n",
    "        break\n",
    "    else:\n",
    "        T = P @ T"
   ]
  },
  {
   "cell_type": "markdown",
   "metadata": {},
   "source": [
    "#### 2. 非周期\n",
    "\n",
    "设有马尔可夫链 $X = \\{ X_0, X_1, \\cdots, X_t, \\cdots \\}$，状态空间为 $S$，对于任意状态 $i \\in S$。\n",
    "如果时刻 $0$ 从状态 $i$ 出发，$t$ 时刻返回状态的所有时间长 $\\{t:P(X_t=i|X_0=i) > 0\\}$ 的 最大公约数是 $1$，则称此马尔可夫链 $X$ 是非周期的（aperiodic），否则称马尔可夫链是周期的 （periodic）。\n",
    "\n",
    "直观上，一个非周期性的马尔可夫链，不存在一个状态，从这一个状态出发，再返回到这个状态时所经历的时间长呈一定的周期性。"
   ]
  },
  {
   "cell_type": "code",
   "execution_count": null,
   "metadata": {},
   "outputs": [],
   "source": [
    "# 转移概率矩阵\n",
    "P = np.array([[0, 0, 1],\n",
    "             [1, 0, 0],\n",
    "             [0, 1, 0],])\n",
    "\n",
    "# 平稳分布\n",
    "T = np.array([[1/3], [1/3], [1/3]])\n",
    "\n",
    "# 此马尔可夫链从每个状态出发，返回该状态的时刻都是3的倍数，具有周期性\n",
    "# 最终停留在每个状态的概率都为 1/3。 "
   ]
  },
  {
   "cell_type": "markdown",
   "metadata": {},
   "source": [
    "#### 3. 正常返\n",
    "\n",
    "设有马尔可夫链 $X = \\{ X_0, X_1, \\cdots, X_t, \\cdots \\}$，状态空间为 $S$，对于任意状态 $i,j \\in S$, 定义概率 $p^t_{ij}$ 为时刻 $0$ 从状态 $j$ 出发，时刻 $t$ 首次转移到状态 $i$ 的概率，即 \n",
    "\n",
    "$$ p_{i j}^{t}=P\\left(X_{t}=i, X_{s} \\neq i, s=1,2, \\cdots, t-1 | X_{0}=j\\right), t=1,2, \\cdots $$\n",
    "\n",
    "若对所有状态 $i,j$ 都满足 $\\lim _{t \\rightarrow \\infty} p_{i j}^{l}>0$，则称马尔可夫链 $X$ 是正常返的 （positive recurrent）。\n",
    "\n",
    "直观上，一个正常返的马尔可夫链，其中任意一个状态，从其他任意一个状态出发，当时间趋于无穷时，首次转移到这个状态的概率不为 $0$ 。"
   ]
  },
  {
   "cell_type": "markdown",
   "metadata": {},
   "source": [
    "**不可约、非周期且正常返的马尔可夫链，有唯一平稳分布存在。**"
   ]
  },
  {
   "cell_type": "markdown",
   "metadata": {},
   "source": [
    "#### 4. 遍历定理\n",
    "\n",
    "设有马尔可夫链 $X = \\{ X_0, X_1, \\cdots, X_t, \\cdots \\}$，状态空间为 $S$，若马尔可夫链 $X$ 是不可约、非周期且正常返的，则该马尔可夫链有唯一平稳分布 $\\pi = (\\pi_1, \\pi_2, \\cdots)^T$, 并且转移概率的极限分布是马尔可夫链的平稳分布\n",
    "\n",
    "$$ \\lim _{t \\rightarrow \\infty} P\\left(X_{t}=i | X_{0}=j\\right)=\\pi_{i}, \\quad i=1,2, \\cdots ; \\quad j=1,2, \\cdots $$"
   ]
  },
  {
   "cell_type": "markdown",
   "metadata": {},
   "source": [
    "**遍历定理的直观解释**\n",
    "\n",
    "满足相应条件的马尔可夫链，当时间趋于无穷时，马尔可夫链的状态分布趋近于平稳分布，随机变量的函数的样本均值以概率 $1$ 收敛于该函数的数学期望。\n",
    "样本均值可以认为是时间均值，而数学期望是空间均值。\n",
    "\n",
    "遍历定理实际表述了遍历性的含义：\n",
    "当时间趋于无穷时，时间均值等于空间均值。\n",
    "遍历定理的三个条件：**不可约、非周期、正常返**，保证了当时间趋于无穷时达到任意一个状态的概率不为 $0$。"
   ]
  },
  {
   "cell_type": "markdown",
   "metadata": {},
   "source": [
    "理论上并不知道经过多少次迭代，马尔可夫链的状态分布才能接近于平稳分布，在实际应用遍历定理时，取一个足够大的整数 $m$， 经过 $m$ 次迭代之后认为状态分布就是平稳分布，这时计算从第 $m+1$ 次迭代到第 $n$ 次迭代的均值，即\n",
    "\n",
    "$$ \\hat{E} f=\\frac{1}{n-m} \\sum_{i=m+1}^{n} f\\left(x_{i}\\right) $$\n",
    "\n",
    "称为遍历均值。"
   ]
  },
  {
   "cell_type": "markdown",
   "metadata": {},
   "source": [
    "#### 5. 可逆马尔科夫链\n",
    "\n",
    "设有马尔可夫链 $X = \\{ X_0, X_1, \\cdots, X_t, \\cdots \\}$，状态空间为 $S$，转移概率矩阵为$P$, 如果有状态分布 $\\pi = (\\pi_1, \\pi_2, \\cdots)^T$，对于任意状态 $i,j \\in \\mathcal{S}$, 对任意一个时刻 $t$ 满足\n",
    "\n",
    "$$ P\\left(X_{t}=i | X_{t-1}=j\\right) \\pi_{j}=P\\left(X_{t-1}=j | X_{t}=i\\right) \\pi_{i}, \\quad i, j=1,2, \\cdots $$\n",
    "\n",
    "或简写为\n",
    "\n",
    "$$ p_{ji}\\pi_j = p_{ij}\\pi_i$$\n",
    "\n",
    "则称此马尔可夫链为可逆马尔可夫链（reversible Markov chain），方程式称为细致平衡方程 （detailed balance equation）。\n",
    "\n",
    "满足细致平衡方程的状态分布$\\pi$就是该马尔可夫链的平稳分布，即$P\\pi = \\pi $。"
   ]
  },
  {
   "cell_type": "markdown",
   "metadata": {},
   "source": [
    "**直观上，如果有可逆的马尔可夫链，那么以该马尔可夫链的平稳分布作为初始分布，进行随机状态转移，无论是面向未来还是面向过去，任何一个时刻的状态分布都是该平稳分布。**"
   ]
  }
 ],
 "metadata": {
  "kernelspec": {
   "display_name": "Python 3",
   "language": "python",
   "name": "python3"
  },
  "language_info": {
   "codemirror_mode": {
    "name": "ipython",
    "version": 3
   },
   "file_extension": ".py",
   "mimetype": "text/x-python",
   "name": "python",
   "nbconvert_exporter": "python",
   "pygments_lexer": "ipython3",
   "version": "3.7.4"
  },
  "pycharm": {
   "stem_cell": {
    "cell_type": "raw",
    "metadata": {
     "collapsed": false
    },
    "source": []
   }
  }
 },
 "nbformat": 4,
 "nbformat_minor": 4
}
