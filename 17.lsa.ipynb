{
 "cells": [
  {
   "cell_type": "markdown",
   "metadata": {
    "collapsed": true,
    "pycharm": {
     "name": "#%% md\n"
    }
   },
   "source": [
    "# 第17章 潜在语义分析    \n",
    "    \n",
    "    17.1 单词向量空间与话题向量空间    \n",
    "        17.1.1 单词向量空间    \n",
    "        17.1.2 话题向量空间    \n",
    "    17.2 潜在语义分析算法    \n",
    "        17.2.1 矩阵奇异值分解算法    \n",
    "        17.2.2 例子    \n",
    "    17.3 非负矩阵分解算法    \n",
    "        17.3.1 非负矩阵分解    \n",
    "        17.3.2 潜在语义分析模型    \n",
    "        17.3.3 非负矩阵分解的形式化    \n",
    "        17.3.4 算法\n",
    "        "
   ]
  },
  {
   "cell_type": "markdown",
   "source": [
    "##    17.1 单词向量空间与话题向量空间    "
   ],
   "metadata": {
    "collapsed": false
   }
  },
  {
   "cell_type": "markdown",
   "source": [
    "###     17.1.1 单词向量空间    "
   ],
   "metadata": {
    "collapsed": false
   }
  },
  {
   "cell_type": "markdown",
   "source": [
    "###     17.1.2 话题向量空间    "
   ],
   "metadata": {
    "collapsed": false
   }
  },
  {
   "cell_type": "markdown",
   "source": [
    "## 17.2 潜在语义分析算法    "
   ],
   "metadata": {
    "collapsed": false
   }
  },
  {
   "cell_type": "markdown",
   "source": [
    "###     17.2.1 矩阵奇异值分解算法    "
   ],
   "metadata": {
    "collapsed": false
   }
  },
  {
   "cell_type": "markdown",
   "source": [
    "###     17.2.2 例子    "
   ],
   "metadata": {
    "collapsed": false
   }
  },
  {
   "cell_type": "markdown",
   "source": [
    "## 17.3 非负矩阵分解算法    "
   ],
   "metadata": {
    "collapsed": false
   }
  },
  {
   "cell_type": "markdown",
   "source": [
    "###     17.3.1 非负矩阵分解    "
   ],
   "metadata": {
    "collapsed": false
   }
  },
  {
   "cell_type": "markdown",
   "source": [
    "###     17.3.2 潜在语义分析模型    "
   ],
   "metadata": {
    "collapsed": false
   }
  },
  {
   "cell_type": "markdown",
   "source": [
    "###     17.3.3 非负矩阵分解的形式化    "
   ],
   "metadata": {
    "collapsed": false
   }
  },
  {
   "cell_type": "markdown",
   "source": [
    "###     17.3.4 算法\n"
   ],
   "metadata": {
    "collapsed": false
   }
  }
 ],
 "metadata": {
  "kernelspec": {
   "display_name": "Python 3",
   "language": "python",
   "name": "python3"
  },
  "language_info": {
   "codemirror_mode": {
    "name": "ipython",
    "version": 2
   },
   "file_extension": ".py",
   "mimetype": "text/x-python",
   "name": "python",
   "nbconvert_exporter": "python",
   "pygments_lexer": "ipython2",
   "version": "2.7.6"
  },
  "pycharm": {
   "stem_cell": {
    "cell_type": "raw",
    "source": [],
    "metadata": {
     "collapsed": false
    }
   }
  }
 },
 "nbformat": 4,
 "nbformat_minor": 0
}