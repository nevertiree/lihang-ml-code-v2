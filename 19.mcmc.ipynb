{
 "cells": [
  {
   "cell_type": "markdown",
   "metadata": {
    "collapsed": true,
    "pycharm": {
     "name": "#%% md\n"
    }
   },
   "source": [
    "# 第19章 马尔可夫链蒙特卡罗法    \n",
    "     \n",
    "    19.1 蒙特卡罗法    \n",
    "        19.1.1 随机抽样    \n",
    "        19.1.2 数学期望估计    \n",
    "        19.1.3 积分计算    \n",
    "    19.2 马尔可夫链    \n",
    "        19.2.1 基本定义    \n",
    "        19.2.2 离散状态马尔可夫链    \n",
    "        19.2.3 连续状态马尔可夫链    \n",
    "        19.2.4 马尔可夫链的性质    \n",
    "    19.3 马尔可夫链蒙特卡罗法    \n",
    "        19.3.1 基本想法    \n",
    "        19.3.2 基本步骤    \n",
    "        19.3.3 马尔可夫链蒙特卡罗法与统计学习    \n",
    "    19.4 Metropolis-Hastings 算法    \n",
    "        19.4.1 基本原理    \n",
    "        19.4.2 Metropolis-Hastings 算法    \n",
    "        19.4.3 单分量 Metropolis-Hastings 算法    \n",
    "    19.5 吉布斯抽样    \n",
    "        19.5.1 基本原理    \n",
    "        19.5.2 吉布斯抽样算法    \n",
    "        19.5.3 抽样计算  \n",
    "    "
   ]
  },
  {
   "cell_type": "markdown",
   "source": [
    "##    19.1 蒙特卡罗法    "
   ],
   "metadata": {
    "collapsed": false
   }
  },
  {
   "cell_type": "markdown",
   "source": [
    "###     19.1.1 随机抽样    "
   ],
   "metadata": {
    "collapsed": false
   }
  },
  {
   "cell_type": "markdown",
   "source": [
    "###     19.1.2 数学期望估计    "
   ],
   "metadata": {
    "collapsed": false
   }
  },
  {
   "cell_type": "markdown",
   "source": [
    "###     19.1.3 积分计算    "
   ],
   "metadata": {
    "collapsed": false
   }
  },
  {
   "cell_type": "markdown",
   "source": [
    "## 19.2 马尔可夫链    "
   ],
   "metadata": {
    "collapsed": false
   }
  },
  {
   "cell_type": "markdown",
   "source": [
    "###     19.2.1 基本定义    "
   ],
   "metadata": {
    "collapsed": false
   }
  },
  {
   "cell_type": "markdown",
   "source": [
    "###     19.2.2 离散状态马尔可夫链    "
   ],
   "metadata": {
    "collapsed": false
   }
  },
  {
   "cell_type": "markdown",
   "source": [
    "###     19.2.3 连续状态马尔可夫链    "
   ],
   "metadata": {
    "collapsed": false
   }
  },
  {
   "cell_type": "markdown",
   "source": [
    "###     19.2.4 马尔可夫链的性质    "
   ],
   "metadata": {
    "collapsed": false
   }
  },
  {
   "cell_type": "markdown",
   "source": [
    "## 19.3 马尔可夫链蒙特卡罗法    "
   ],
   "metadata": {
    "collapsed": false
   }
  },
  {
   "cell_type": "markdown",
   "source": [
    "###     19.3.1 基本想法    "
   ],
   "metadata": {
    "collapsed": false
   }
  },
  {
   "cell_type": "markdown",
   "source": [
    "###     19.3.2 基本步骤    "
   ],
   "metadata": {
    "collapsed": false
   }
  },
  {
   "cell_type": "markdown",
   "source": [
    "###     19.3.3 马尔可夫链蒙特卡罗法与统计学习    "
   ],
   "metadata": {
    "collapsed": false
   }
  },
  {
   "cell_type": "markdown",
   "source": [
    "## 19.4 Metropolis-Hastings 算法    "
   ],
   "metadata": {
    "collapsed": false
   }
  },
  {
   "cell_type": "markdown",
   "source": [
    "###     19.4.1 基本原理    "
   ],
   "metadata": {
    "collapsed": false
   }
  },
  {
   "cell_type": "markdown",
   "source": [
    "###     19.4.2 Metropolis-Hastings 算法    "
   ],
   "metadata": {
    "collapsed": false
   }
  },
  {
   "cell_type": "markdown",
   "source": [
    "###     19.4.3 单分量 Metropolis-Hastings 算法    "
   ],
   "metadata": {
    "collapsed": false
   }
  },
  {
   "cell_type": "markdown",
   "source": [
    "## 19.5 吉布斯抽样    "
   ],
   "metadata": {
    "collapsed": false
   }
  },
  {
   "cell_type": "markdown",
   "source": [
    "###     19.5.1 基本原理    "
   ],
   "metadata": {
    "collapsed": false
   }
  },
  {
   "cell_type": "markdown",
   "source": [
    "###     19.5.2 吉布斯抽样算法    "
   ],
   "metadata": {
    "collapsed": false
   }
  },
  {
   "cell_type": "markdown",
   "source": [
    "###     19.5.3 抽样计算  \n"
   ],
   "metadata": {
    "collapsed": false,
    "pycharm": {
     "name": "#%% md\n"
    }
   }
  }
 ],
 "metadata": {
  "kernelspec": {
   "display_name": "Python 3",
   "language": "python",
   "name": "python3"
  },
  "language_info": {
   "codemirror_mode": {
    "name": "ipython",
    "version": 2
   },
   "file_extension": ".py",
   "mimetype": "text/x-python",
   "name": "python",
   "nbconvert_exporter": "python",
   "pygments_lexer": "ipython2",
   "version": "2.7.6"
  },
  "pycharm": {
   "stem_cell": {
    "cell_type": "raw",
    "source": [],
    "metadata": {
     "collapsed": false
    }
   }
  }
 },
 "nbformat": 4,
 "nbformat_minor": 0
}